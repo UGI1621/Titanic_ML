{
 "cells": [
  {
   "cell_type": "markdown",
   "id": "0d6f50da",
   "metadata": {},
   "source": [
    "### 데이터 분석 관련"
   ]
  },
  {
   "cell_type": "code",
   "execution_count": 1,
   "id": "9e5fa3b2",
   "metadata": {},
   "outputs": [],
   "source": [
    "import pandas as pd\n",
    "from pandas import Series, DataFrame\n",
    "import numpy as np\n",
    "import warnings\n",
    "warnings.filterwarnings('ignore')"
   ]
  },
  {
   "cell_type": "markdown",
   "id": "b318c104",
   "metadata": {},
   "source": [
    "# Scikit_Learn의 머신러닝 모듈들"
   ]
  },
  {
   "cell_type": "code",
   "execution_count": 2,
   "id": "06e5c391",
   "metadata": {},
   "outputs": [],
   "source": [
    "# 선형회귀\n",
    "from sklearn.linear_model import LogisticRegression\n",
    "\n",
    "# 서포트 벡터 머신\n",
    "from sklearn.svm import SVC, LinearSVC\n",
    "\n",
    "# 랜덤 포레스트\n",
    "from sklearn.ensemble import RandomForestClassifier\n",
    "\n",
    "# k-최근접 이웃\n",
    "from sklearn.neighbors import KNeighborsClassifier"
   ]
  },
  {
   "cell_type": "markdown",
   "id": "8373dc5c",
   "metadata": {},
   "source": [
    "### 데이터 읽기"
   ]
  },
  {
   "cell_type": "code",
   "execution_count": 3,
   "id": "a786a007",
   "metadata": {},
   "outputs": [],
   "source": [
    "train_df = pd.read_csv(\"./titanic/train.csv\")\n",
    "test_df = pd.read_csv(\"./titanic/test.csv\")"
   ]
  },
  {
   "cell_type": "code",
   "execution_count": 4,
   "id": "911047ca",
   "metadata": {},
   "outputs": [
    {
     "data": {
      "text/html": [
       "<div>\n",
       "<style scoped>\n",
       "    .dataframe tbody tr th:only-of-type {\n",
       "        vertical-align: middle;\n",
       "    }\n",
       "\n",
       "    .dataframe tbody tr th {\n",
       "        vertical-align: top;\n",
       "    }\n",
       "\n",
       "    .dataframe thead th {\n",
       "        text-align: right;\n",
       "    }\n",
       "</style>\n",
       "<table border=\"1\" class=\"dataframe\">\n",
       "  <thead>\n",
       "    <tr style=\"text-align: right;\">\n",
       "      <th></th>\n",
       "      <th>PassengerId</th>\n",
       "      <th>Survived</th>\n",
       "      <th>Pclass</th>\n",
       "      <th>Name</th>\n",
       "      <th>Sex</th>\n",
       "      <th>Age</th>\n",
       "      <th>SibSp</th>\n",
       "      <th>Parch</th>\n",
       "      <th>Ticket</th>\n",
       "      <th>Fare</th>\n",
       "      <th>Cabin</th>\n",
       "      <th>Embarked</th>\n",
       "    </tr>\n",
       "  </thead>\n",
       "  <tbody>\n",
       "    <tr>\n",
       "      <th>0</th>\n",
       "      <td>1</td>\n",
       "      <td>0</td>\n",
       "      <td>3</td>\n",
       "      <td>Braund, Mr. Owen Harris</td>\n",
       "      <td>male</td>\n",
       "      <td>22.0</td>\n",
       "      <td>1</td>\n",
       "      <td>0</td>\n",
       "      <td>A/5 21171</td>\n",
       "      <td>7.2500</td>\n",
       "      <td>NaN</td>\n",
       "      <td>S</td>\n",
       "    </tr>\n",
       "    <tr>\n",
       "      <th>1</th>\n",
       "      <td>2</td>\n",
       "      <td>1</td>\n",
       "      <td>1</td>\n",
       "      <td>Cumings, Mrs. John Bradley (Florence Briggs Th...</td>\n",
       "      <td>female</td>\n",
       "      <td>38.0</td>\n",
       "      <td>1</td>\n",
       "      <td>0</td>\n",
       "      <td>PC 17599</td>\n",
       "      <td>71.2833</td>\n",
       "      <td>C85</td>\n",
       "      <td>C</td>\n",
       "    </tr>\n",
       "    <tr>\n",
       "      <th>2</th>\n",
       "      <td>3</td>\n",
       "      <td>1</td>\n",
       "      <td>3</td>\n",
       "      <td>Heikkinen, Miss. Laina</td>\n",
       "      <td>female</td>\n",
       "      <td>26.0</td>\n",
       "      <td>0</td>\n",
       "      <td>0</td>\n",
       "      <td>STON/O2. 3101282</td>\n",
       "      <td>7.9250</td>\n",
       "      <td>NaN</td>\n",
       "      <td>S</td>\n",
       "    </tr>\n",
       "    <tr>\n",
       "      <th>3</th>\n",
       "      <td>4</td>\n",
       "      <td>1</td>\n",
       "      <td>1</td>\n",
       "      <td>Futrelle, Mrs. Jacques Heath (Lily May Peel)</td>\n",
       "      <td>female</td>\n",
       "      <td>35.0</td>\n",
       "      <td>1</td>\n",
       "      <td>0</td>\n",
       "      <td>113803</td>\n",
       "      <td>53.1000</td>\n",
       "      <td>C123</td>\n",
       "      <td>S</td>\n",
       "    </tr>\n",
       "    <tr>\n",
       "      <th>4</th>\n",
       "      <td>5</td>\n",
       "      <td>0</td>\n",
       "      <td>3</td>\n",
       "      <td>Allen, Mr. William Henry</td>\n",
       "      <td>male</td>\n",
       "      <td>35.0</td>\n",
       "      <td>0</td>\n",
       "      <td>0</td>\n",
       "      <td>373450</td>\n",
       "      <td>8.0500</td>\n",
       "      <td>NaN</td>\n",
       "      <td>S</td>\n",
       "    </tr>\n",
       "  </tbody>\n",
       "</table>\n",
       "</div>"
      ],
      "text/plain": [
       "   PassengerId  Survived  Pclass  \\\n",
       "0            1         0       3   \n",
       "1            2         1       1   \n",
       "2            3         1       3   \n",
       "3            4         1       1   \n",
       "4            5         0       3   \n",
       "\n",
       "                                                Name     Sex   Age  SibSp  \\\n",
       "0                            Braund, Mr. Owen Harris    male  22.0      1   \n",
       "1  Cumings, Mrs. John Bradley (Florence Briggs Th...  female  38.0      1   \n",
       "2                             Heikkinen, Miss. Laina  female  26.0      0   \n",
       "3       Futrelle, Mrs. Jacques Heath (Lily May Peel)  female  35.0      1   \n",
       "4                           Allen, Mr. William Henry    male  35.0      0   \n",
       "\n",
       "   Parch            Ticket     Fare Cabin Embarked  \n",
       "0      0         A/5 21171   7.2500   NaN        S  \n",
       "1      0          PC 17599  71.2833   C85        C  \n",
       "2      0  STON/O2. 3101282   7.9250   NaN        S  \n",
       "3      0            113803  53.1000  C123        S  \n",
       "4      0            373450   8.0500   NaN        S  "
      ]
     },
     "execution_count": 4,
     "metadata": {},
     "output_type": "execute_result"
    }
   ],
   "source": [
    "# 데이터 미리보기\n",
    "train_df.head()"
   ]
  },
  {
   "cell_type": "markdown",
   "id": "ba456563",
   "metadata": {},
   "source": [
    "번호는 큰 의미를 가지지않음, 이름과 티켓의 경우 불규칙성이많아 처리하기 어려움."
   ]
  },
  {
   "cell_type": "code",
   "execution_count": 5,
   "id": "e98bdb08",
   "metadata": {},
   "outputs": [
    {
     "name": "stdout",
     "output_type": "stream",
     "text": [
      "<class 'pandas.core.frame.DataFrame'>\n",
      "RangeIndex: 891 entries, 0 to 890\n",
      "Data columns (total 12 columns):\n",
      " #   Column       Non-Null Count  Dtype  \n",
      "---  ------       --------------  -----  \n",
      " 0   PassengerId  891 non-null    int64  \n",
      " 1   Survived     891 non-null    int64  \n",
      " 2   Pclass       891 non-null    int64  \n",
      " 3   Name         891 non-null    object \n",
      " 4   Sex          891 non-null    object \n",
      " 5   Age          714 non-null    float64\n",
      " 6   SibSp        891 non-null    int64  \n",
      " 7   Parch        891 non-null    int64  \n",
      " 8   Ticket       891 non-null    object \n",
      " 9   Fare         891 non-null    float64\n",
      " 10  Cabin        204 non-null    object \n",
      " 11  Embarked     889 non-null    object \n",
      "dtypes: float64(2), int64(5), object(5)\n",
      "memory usage: 83.7+ KB\n",
      "--------------------\n",
      "<class 'pandas.core.frame.DataFrame'>\n",
      "RangeIndex: 418 entries, 0 to 417\n",
      "Data columns (total 11 columns):\n",
      " #   Column       Non-Null Count  Dtype  \n",
      "---  ------       --------------  -----  \n",
      " 0   PassengerId  418 non-null    int64  \n",
      " 1   Pclass       418 non-null    int64  \n",
      " 2   Name         418 non-null    object \n",
      " 3   Sex          418 non-null    object \n",
      " 4   Age          332 non-null    float64\n",
      " 5   SibSp        418 non-null    int64  \n",
      " 6   Parch        418 non-null    int64  \n",
      " 7   Ticket       418 non-null    object \n",
      " 8   Fare         417 non-null    float64\n",
      " 9   Cabin        91 non-null     object \n",
      " 10  Embarked     418 non-null    object \n",
      "dtypes: float64(2), int64(4), object(5)\n",
      "memory usage: 36.0+ KB\n"
     ]
    }
   ],
   "source": [
    "train_df.info()\n",
    "print('-'*20)\n",
    "test_df.info()"
   ]
  },
  {
   "cell_type": "markdown",
   "id": "249a22a4",
   "metadata": {},
   "source": [
    "---\n",
    "test dataset = 891 // feature = 12\n",
    "\n",
    "train dataset = 418 // feature = 11 (survived 없음)\n",
    "\n",
    "---\n",
    "### 주의\n",
    "\n",
    "각 데이터는 빈 부분이 있는가?\n",
    "\n",
    "    빈 부분이 있다면 drop할 것인가?\n",
    "    default값으로 채워넣을 것인가?\n",
    "\n",
    "데이터는 float64로 변환할수 있는가?\n",
    "\n",
    "    아니라면 범주형 데이터로 만들 수 있는가?    \n",
    "---\n",
    "\n",
    "필요없는 부분이라고 생각되는 부분은 지운다.\n",
    "\n",
    "PassengerID, 이름, 티켓을 지운다. << 이름과 티켓에서 가져올수 있는 데이터 없음\n",
    "\n",
    "하지만 문제에서 결과물은 PassengerId, Survived 요소가 필요하므로 훈련 데이터에서만 삭제"
   ]
  },
  {
   "cell_type": "code",
   "execution_count": 6,
   "id": "5e647ac7",
   "metadata": {},
   "outputs": [],
   "source": [
    "train_df = train_df.drop(['PassengerId','Name','Ticket'], axis=1)\n",
    "test_df = test_df.drop(['Name','Ticket'], axis=1)"
   ]
  },
  {
   "cell_type": "markdown",
   "id": "a2ed6bfb",
   "metadata": {},
   "source": [
    "### Null Data Check"
   ]
  },
  {
   "cell_type": "code",
   "execution_count": 7,
   "id": "cb1f49cf",
   "metadata": {},
   "outputs": [
    {
     "name": "stdout",
     "output_type": "stream",
     "text": [
      "column:   Survived\t Percent of NaN value: 0.00%\n",
      "column:     Pclass\t Percent of NaN value: 0.00%\n",
      "column:        Sex\t Percent of NaN value: 0.00%\n",
      "column:        Age\t Percent of NaN value: 19.87%\n",
      "column:      SibSp\t Percent of NaN value: 0.00%\n",
      "column:      Parch\t Percent of NaN value: 0.00%\n",
      "column:       Fare\t Percent of NaN value: 0.00%\n",
      "column:      Cabin\t Percent of NaN value: 77.10%\n",
      "column:   Embarked\t Percent of NaN value: 0.22%\n"
     ]
    }
   ],
   "source": [
    "for col in train_df.columns:\n",
    "    msg = 'column: {:>10}\\t Percent of NaN value: {:.2f}%'.format(col, 100 * (train_df[col].isnull().sum() / train_df[col].shape[0]))\n",
    "    print(msg)"
   ]
  },
  {
   "cell_type": "code",
   "execution_count": 8,
   "id": "3f2a2304",
   "metadata": {},
   "outputs": [
    {
     "name": "stdout",
     "output_type": "stream",
     "text": [
      "column: PassengerId\t Percent of NaN value: 0.00%\n",
      "column:     Pclass\t Percent of NaN value: 0.00%\n",
      "column:        Sex\t Percent of NaN value: 0.00%\n",
      "column:        Age\t Percent of NaN value: 20.57%\n",
      "column:      SibSp\t Percent of NaN value: 0.00%\n",
      "column:      Parch\t Percent of NaN value: 0.00%\n",
      "column:       Fare\t Percent of NaN value: 0.24%\n",
      "column:      Cabin\t Percent of NaN value: 78.23%\n",
      "column:   Embarked\t Percent of NaN value: 0.00%\n"
     ]
    }
   ],
   "source": [
    "for col in test_df.columns:\n",
    "    msg = 'column: {:>10}\\t Percent of NaN value: {:.2f}%'.format(col, 100 * (test_df[col].isnull().sum() / test_df[col].shape[0]))\n",
    "    print(msg)"
   ]
  },
  {
   "cell_type": "markdown",
   "id": "220e06a2",
   "metadata": {},
   "source": [
    "----"
   ]
  },
  {
   "cell_type": "markdown",
   "id": "9dbd161f",
   "metadata": {},
   "source": [
    "### 각 Unique한 Value에 대한 카운팅"
   ]
  },
  {
   "cell_type": "code",
   "execution_count": 9,
   "id": "c2cdd9d1",
   "metadata": {},
   "outputs": [
    {
     "data": {
      "text/plain": [
       "3    491\n",
       "1    216\n",
       "2    184\n",
       "Name: Pclass, dtype: int64"
      ]
     },
     "execution_count": 9,
     "metadata": {},
     "output_type": "execute_result"
    }
   ],
   "source": [
    "train_df['Pclass'].value_counts()"
   ]
  },
  {
   "cell_type": "markdown",
   "id": "95b01502",
   "metadata": {},
   "source": [
    "#### 1. Pclass\n",
    "\n",
    "Pclass는 실수로 바꿀수는 있는데\n",
    "\n",
    "사실 연속적인 정보가 아님, 그래서 범주형 데이터로 인식하고 인코딩 해야한다.\n",
    "\n",
    "그러므로 one-hot-encoding을 해야한다"
   ]
  },
  {
   "cell_type": "code",
   "execution_count": 10,
   "id": "f7070287",
   "metadata": {},
   "outputs": [],
   "source": [
    "pclass_train_dummies = pd.get_dummies(train_df['Pclass'])\n",
    "pclass_test_dummies = pd.get_dummies(test_df['Pclass'])\n",
    "\n",
    "pclass_train_dummies.columns = [\"Pclass_1\",\"Pclass_2\",\"Pclass_3\"]\n",
    "pclass_test_dummies.columns = [\"Pclass_1\",\"Pclass_2\",\"Pclass_3\"]\n",
    "\n",
    "train_df.drop(['Pclass'] , axis = 1 , inplace=True)\n",
    "test_df.drop(['Pclass'] , axis = 1 , inplace=True)\n",
    "\n",
    "train_df = train_df.join(pclass_train_dummies)\n",
    "test_df = test_df.join(pclass_test_dummies)"
   ]
  },
  {
   "cell_type": "markdown",
   "id": "e2e874a7",
   "metadata": {},
   "source": [
    "Pclass의 원본을 없애고, 범주형으로 개별로 데이터가 변환됨\n",
    "\n",
    "---"
   ]
  },
  {
   "cell_type": "markdown",
   "id": "cf57cb46",
   "metadata": {},
   "source": [
    "#### 2. Sex\n",
    "\n",
    "남,여로 나뉘므로 이것도 one-hot-encoding한다."
   ]
  },
  {
   "cell_type": "code",
   "execution_count": 11,
   "id": "20698913",
   "metadata": {},
   "outputs": [],
   "source": [
    "sex_train_dummies = pd.get_dummies(train_df['Sex'])\n",
    "sex_test_dummies = pd.get_dummies(test_df['Sex'])\n",
    "\n",
    "sex_train_dummies.columns = ['Female', 'Male']\n",
    "sex_test_dummies.columns = ['Female', 'Male']\n",
    "\n",
    "train_df.drop(['Sex'], axis=1, inplace=True)\n",
    "test_df.drop(['Sex'], axis=1, inplace=True)\n",
    "\n",
    "train_df = train_df.join(sex_train_dummies)\n",
    "test_df = test_df.join(sex_test_dummies)"
   ]
  },
  {
   "cell_type": "markdown",
   "id": "faeb9ae4",
   "metadata": {},
   "source": [
    "---"
   ]
  },
  {
   "cell_type": "markdown",
   "id": "16001cce",
   "metadata": {},
   "source": [
    "#### 3. Age\n",
    "\n",
    "나이는 연속적인 정보임. 큰 처리 필요없음\n",
    "\n",
    "(카테고리화를 통해 일부 알고리즘에서 더 유용한 결과를 얻을 수 있음)\n",
    "\n",
    "하지만 일부 데이터가 null이라서 이를 채워야함\n",
    "\n",
    "1. 랜덤\n",
    "2. 평균값\n",
    "3. 중간값\n",
    "4. 데이터버리기\n",
    "\n",
    "<span style=\"color:gray\">해당 튜토리얼에선 평균값을 채움.</span>\n",
    "\n",
    "<span style=\"color:gray\">데이터의 통일성을 위해 train dataset의 평균값을 train, test dataset에 채움.</span>"
   ]
  },
  {
   "cell_type": "code",
   "execution_count": 12,
   "id": "9c0801c8",
   "metadata": {},
   "outputs": [],
   "source": [
    "train_df[\"Age\"].fillna(train_df[\"Age\"].mean(), inplace=True)\n",
    "test_df[\"Age\"].fillna(train_df[\"Age\"].mean(), inplace=True)"
   ]
  },
  {
   "cell_type": "markdown",
   "id": "1a089f26",
   "metadata": {},
   "source": [
    "---"
   ]
  },
  {
   "cell_type": "markdown",
   "id": "fc36ec4a",
   "metadata": {},
   "source": [
    "#### 4. SibSp & Panch\n",
    "\n",
    "형제 자매와 부모를 한 가족으로 함께 처리할 수 있으나,\n",
    "\n",
    "해당 튜토리얼에선 건드리지 않음.\n",
    "\n",
    "---"
   ]
  },
  {
   "cell_type": "markdown",
   "id": "9ee883bc",
   "metadata": {},
   "source": [
    "#### 5. Fare\n",
    "\n",
    "Fare은 탑승료임.\n",
    "\n",
    "test 데이터셋에 1개의 데이터가 비어있음.\n",
    "\n",
    "빈 부분을 fillna 메서드로 채움."
   ]
  },
  {
   "cell_type": "code",
   "execution_count": 13,
   "id": "09e47493",
   "metadata": {},
   "outputs": [],
   "source": [
    "test_df[\"Fare\"].fillna(0,inplace=True)"
   ]
  },
  {
   "cell_type": "markdown",
   "id": "7fa02068",
   "metadata": {},
   "source": [
    "---"
   ]
  },
  {
   "cell_type": "markdown",
   "id": "292dd5a2",
   "metadata": {},
   "source": [
    "#### 6. Cabin\n",
    "\n",
    "Cabin은 객실임.\n",
    "\n",
    "Null이 대부분인 데이터이므로 버린다."
   ]
  },
  {
   "cell_type": "code",
   "execution_count": 14,
   "id": "56a2aa4b",
   "metadata": {},
   "outputs": [],
   "source": [
    "train_df = train_df.drop(['Cabin'], axis=1)\n",
    "test_df = test_df.drop(['Cabin'], axis=1)"
   ]
  },
  {
   "cell_type": "markdown",
   "id": "2b49e64b",
   "metadata": {},
   "source": [
    "---"
   ]
  },
  {
   "cell_type": "markdown",
   "id": "c94fc2ff",
   "metadata": {},
   "source": [
    "#### 7. Embarked\n",
    "\n",
    "Embarked는 탑승 항구를 의미함"
   ]
  },
  {
   "cell_type": "code",
   "execution_count": 15,
   "id": "934f2224",
   "metadata": {},
   "outputs": [
    {
     "data": {
      "text/plain": [
       "S    644\n",
       "C    168\n",
       "Q     77\n",
       "Name: Embarked, dtype: int64"
      ]
     },
     "execution_count": 15,
     "metadata": {},
     "output_type": "execute_result"
    }
   ],
   "source": [
    "train_df['Embarked'].value_counts()"
   ]
  },
  {
   "cell_type": "code",
   "execution_count": 16,
   "id": "f85aea05",
   "metadata": {},
   "outputs": [
    {
     "data": {
      "text/plain": [
       "S    270\n",
       "C    102\n",
       "Q     46\n",
       "Name: Embarked, dtype: int64"
      ]
     },
     "execution_count": 16,
     "metadata": {},
     "output_type": "execute_result"
    }
   ],
   "source": [
    "test_df['Embarked'].value_counts()"
   ]
  },
  {
   "cell_type": "markdown",
   "id": "7347cd23",
   "metadata": {},
   "source": [
    "S가 대다수이고 일부 데이터가 비어있음을 알 수 있다.\n",
    "\n",
    "빈부분은 S로 채운다."
   ]
  },
  {
   "cell_type": "code",
   "execution_count": 17,
   "id": "a3cbaded",
   "metadata": {},
   "outputs": [],
   "source": [
    "train_df['Embarked'].fillna(\"S\",inplace = True)\n",
    "test_df['Embarked'].fillna(\"S\",inplace = True)"
   ]
  },
  {
   "cell_type": "markdown",
   "id": "37ea0832",
   "metadata": {},
   "source": [
    "비연결형 데이터이므로 one-hot-encoding"
   ]
  },
  {
   "cell_type": "code",
   "execution_count": 18,
   "id": "12773a91",
   "metadata": {},
   "outputs": [],
   "source": [
    "embarked_train_dummies = pd.get_dummies(train_df['Embarked'])\n",
    "embarked_test_dummies = pd.get_dummies(test_df['Embarked'])\n",
    "\n",
    "embarked_train_dummies.columns = ['S','C','Q']\n",
    "embarked_test_dummies.columns = ['S','C','Q']\n",
    "\n",
    "train_df.drop(['Embarked'], axis=1, inplace = True)\n",
    "test_df.drop(['Embarked'], axis=1, inplace = True)\n",
    "\n",
    "train_df = train_df.join(embarked_train_dummies)\n",
    "test_df = test_df.join(embarked_train_dummies)"
   ]
  },
  {
   "cell_type": "markdown",
   "id": "7a7805bc",
   "metadata": {},
   "source": [
    "---"
   ]
  },
  {
   "cell_type": "markdown",
   "id": "b04a7e10",
   "metadata": {},
   "source": [
    "### 데이터 나누기\n",
    "\n",
    "학습용 데이터를 위해 데이터를 나눠야함.\n",
    "\n",
    "(정보, 생존여부) 와 같은 형태로 나눈다."
   ]
  },
  {
   "cell_type": "code",
   "execution_count": 19,
   "id": "85eedc25",
   "metadata": {},
   "outputs": [],
   "source": [
    "X_train = train_df.drop(\"Survived\",axis=1)\n",
    "Y_train = train_df[\"Survived\"]\n",
    "X_test = test_df.drop(\"PassengerId\", axis=1).copy()"
   ]
  },
  {
   "cell_type": "markdown",
   "id": "8162595b",
   "metadata": {},
   "source": [
    "---"
   ]
  },
  {
   "cell_type": "markdown",
   "id": "517b1703",
   "metadata": {},
   "source": [
    "### 머신러닝 알고리즘 적용하기\n",
    "\n",
    "로지스틱 회귀, SVC, RandomForest, KNN 알고리즘을 각각 사용한다."
   ]
  },
  {
   "cell_type": "code",
   "execution_count": 20,
   "id": "f77c4ced",
   "metadata": {},
   "outputs": [
    {
     "data": {
      "text/plain": [
       "0.8058361391694725"
      ]
     },
     "execution_count": 20,
     "metadata": {},
     "output_type": "execute_result"
    }
   ],
   "source": [
    "# Logistic Regression\n",
    "\n",
    "logreg = LogisticRegression()\n",
    "logreg.fit(X_train, Y_train)\n",
    "\n",
    "Y_pred = logreg.predict(X_test)\n",
    "\n",
    "logreg.score(X_train, Y_train)"
   ]
  },
  {
   "cell_type": "code",
   "execution_count": 21,
   "id": "cd6cb782",
   "metadata": {},
   "outputs": [
    {
     "data": {
      "text/plain": [
       "0.8754208754208754"
      ]
     },
     "execution_count": 21,
     "metadata": {},
     "output_type": "execute_result"
    }
   ],
   "source": [
    "# SVM\n",
    "\n",
    "svc = SVC(C=15,gamma=0.01)\n",
    "\n",
    "svc.fit(X_train,Y_train)\n",
    "\n",
    "Y_pred = svc.predict(X_test)\n",
    "\n",
    "svc.score(X_train, Y_train)"
   ]
  },
  {
   "cell_type": "code",
   "execution_count": 22,
   "id": "03407ced",
   "metadata": {},
   "outputs": [
    {
     "data": {
      "text/plain": [
       "0.9820426487093153"
      ]
     },
     "execution_count": 22,
     "metadata": {},
     "output_type": "execute_result"
    }
   ],
   "source": [
    "#Random Forests\n",
    "\n",
    "random_forest = RandomForestClassifier(n_estimators=100)\n",
    "\n",
    "random_forest.fit(X_train, Y_train)\n",
    "\n",
    "Y_pred = random_forest.predict(X_test)\n",
    "\n",
    "random_forest.score(X_train, Y_train)"
   ]
  },
  {
   "cell_type": "code",
   "execution_count": 23,
   "id": "41bda369",
   "metadata": {},
   "outputs": [
    {
     "data": {
      "text/plain": [
       "0.7665544332210998"
      ]
     },
     "execution_count": 23,
     "metadata": {},
     "output_type": "execute_result"
    }
   ],
   "source": [
    "# KNN\n",
    "\n",
    "knn = KNeighborsClassifier(n_neighbors = 10)\n",
    "\n",
    "knn.fit(X_train, Y_train)\n",
    "\n",
    "Y_pred = knn.predict(X_test)\n",
    "\n",
    "knn.score(X_train, Y_train)"
   ]
  },
  {
   "cell_type": "markdown",
   "id": "9142cfa8",
   "metadata": {},
   "source": [
    "---"
   ]
  },
  {
   "cell_type": "markdown",
   "id": "eef7d52f",
   "metadata": {},
   "source": [
    "## 제출용 파일 만들기\n",
    "\n",
    "Random Forest 가 가장 좋은 결과를 냈으니,\n",
    "그 결과로 Submission 파일을 만들어 제출한다."
   ]
  },
  {
   "cell_type": "code",
   "execution_count": 24,
   "id": "d3aa78af",
   "metadata": {},
   "outputs": [],
   "source": [
    "# random_forest = RandomForestClassifier(n_estimators = 10000)\n",
    "# random_forest.fit(X_train, Y_train)\n",
    "# Y_pred = random_forest.predict(X_test)\n",
    "# random_forest.score(X_train, Y_train)\n",
    "\n",
    "# submission = pd.DataFrame({\n",
    "#     \"PassengerId\": test_df[\"PassengerId\"],\n",
    "#     \"Survived\" : Y_pred\n",
    "# })\n",
    "\n",
    "\n",
    "\n",
    "# submission.to_csv('titanic.csv', index = False)"
   ]
  }
 ],
 "metadata": {
  "kernelspec": {
   "display_name": "Python 3 (ipykernel)",
   "language": "python",
   "name": "python3"
  },
  "language_info": {
   "codemirror_mode": {
    "name": "ipython",
    "version": 3
   },
   "file_extension": ".py",
   "mimetype": "text/x-python",
   "name": "python",
   "nbconvert_exporter": "python",
   "pygments_lexer": "ipython3",
   "version": "3.7.16"
  }
 },
 "nbformat": 4,
 "nbformat_minor": 5
}
