{
 "cells": [
  {
   "cell_type": "code",
   "execution_count": 1,
   "id": "25b1158c",
   "metadata": {},
   "outputs": [],
   "source": [
    "import numpy as np\n",
    "import pandas as pd\n",
    "import matplotlib.pyplot as plt\n",
    "import seaborn as sns\n",
    "\n",
    "plt.style.use('seaborn')\n",
    "sns.set(font_scale=2.5)\n",
    "import missingno as msno\n",
    "\n",
    "#ignore warnings\n",
    "import warnings\n",
    "warnings.filterwarnings('ignore')\n",
    "\n",
    "%matplotlib inline"
   ]
  },
  {
   "cell_type": "code",
   "execution_count": 2,
   "id": "805689d1",
   "metadata": {},
   "outputs": [],
   "source": [
    "df_train = pd.read_csv(\"./titanic/train.csv\")\n",
    "df_test = pd.read_csv(\"./titanic/test.csv\")"
   ]
  },
  {
   "cell_type": "markdown",
   "id": "999665ed",
   "metadata": {},
   "source": [
    "# Null Data Check"
   ]
  },
  {
   "cell_type": "code",
   "execution_count": 3,
   "id": "d82442b8",
   "metadata": {},
   "outputs": [
    {
     "name": "stdout",
     "output_type": "stream",
     "text": [
      "column: PassengerId\t Percent of NaN value: 0.00%\n",
      "column:   Survived\t Percent of NaN value: 0.00%\n",
      "column:     Pclass\t Percent of NaN value: 0.00%\n",
      "column:       Name\t Percent of NaN value: 0.00%\n",
      "column:        Sex\t Percent of NaN value: 0.00%\n",
      "column:        Age\t Percent of NaN value: 19.87%\n",
      "column:      SibSp\t Percent of NaN value: 0.00%\n",
      "column:      Parch\t Percent of NaN value: 0.00%\n",
      "column:     Ticket\t Percent of NaN value: 0.00%\n",
      "column:       Fare\t Percent of NaN value: 0.00%\n",
      "column:      Cabin\t Percent of NaN value: 77.10%\n",
      "column:   Embarked\t Percent of NaN value: 0.22%\n"
     ]
    }
   ],
   "source": [
    "# train data\n",
    "for col in df_train.columns:\n",
    "    msg = 'column: {:>10}\\t Percent of NaN value: {:.2f}%'.format(col, 100 * (df_train[col].isnull().sum() / df_train[col].shape[0]))\n",
    "    print(msg)"
   ]
  },
  {
   "cell_type": "code",
   "execution_count": 4,
   "id": "0ef3124e",
   "metadata": {},
   "outputs": [
    {
     "name": "stdout",
     "output_type": "stream",
     "text": [
      "column: PassengerId\t Percent of NaN value: 0.00%\n",
      "column:     Pclass\t Percent of NaN value: 0.00%\n",
      "column:       Name\t Percent of NaN value: 0.00%\n",
      "column:        Sex\t Percent of NaN value: 0.00%\n",
      "column:        Age\t Percent of NaN value: 20.57%\n",
      "column:      SibSp\t Percent of NaN value: 0.00%\n",
      "column:      Parch\t Percent of NaN value: 0.00%\n",
      "column:     Ticket\t Percent of NaN value: 0.00%\n",
      "column:       Fare\t Percent of NaN value: 0.24%\n",
      "column:      Cabin\t Percent of NaN value: 78.23%\n",
      "column:   Embarked\t Percent of NaN value: 0.00%\n"
     ]
    }
   ],
   "source": [
    "# test data\n",
    "for col in df_test.columns:\n",
    "    msg = 'column: {:>10}\\t Percent of NaN value: {:.2f}%'.format(col, 100 * (df_test[col].isnull().sum() / df_test[col].shape[0]))\n",
    "    print(msg)"
   ]
  },
  {
   "cell_type": "code",
   "execution_count": 10,
   "id": "b2e77325",
   "metadata": {
    "scrolled": true
   },
   "outputs": [],
   "source": [
    "# 선형회귀\n",
    "from sklearn.linear_model import LogisticRegression\n",
    "\n",
    "# 서포트 벡터 머신\n",
    "from sklearn.svm import SVC, LinearSVC\n",
    "\n",
    "# 랜덤 포레스트\n",
    "from sklearn.ensemble import RandomForestClassifier\n",
    "\n",
    "# k-최근접 이웃\n",
    "from sklearn.neighbors import KNeighborsClassifier"
   ]
  },
  {
   "cell_type": "code",
   "execution_count": 77,
   "id": "613f9e6e",
   "metadata": {},
   "outputs": [
    {
     "name": "stdout",
     "output_type": "stream",
     "text": [
      "<class 'pandas.core.frame.DataFrame'>\n",
      "RangeIndex: 891 entries, 0 to 890\n",
      "Data columns (total 12 columns):\n",
      " #   Column      Non-Null Count  Dtype  \n",
      "---  ------      --------------  -----  \n",
      " 0   Survived    891 non-null    int64  \n",
      " 1   Age         891 non-null    float64\n",
      " 2   Fare        891 non-null    float64\n",
      " 3   Pclass_1    891 non-null    uint8  \n",
      " 4   Pclass_2    891 non-null    uint8  \n",
      " 5   Pclass_3    891 non-null    uint8  \n",
      " 6   S           891 non-null    uint8  \n",
      " 7   C           891 non-null    uint8  \n",
      " 8   Q           891 non-null    uint8  \n",
      " 9   Female      891 non-null    uint8  \n",
      " 10  Male        891 non-null    uint8  \n",
      " 11  FamilySize  891 non-null    int64  \n",
      "dtypes: float64(2), int64(2), uint8(8)\n",
      "memory usage: 34.9 KB\n"
     ]
    }
   ],
   "source": [
    "df_train = pd.read_csv(\"./titanic/train.csv\")\n",
    "df_test = pd.read_csv(\"./titanic/test.csv\")\n",
    "\n",
    "# Pclass\n",
    "pclass_train_dummies = pd.get_dummies(df_train['Pclass'])\n",
    "pclass_test_dummies = pd.get_dummies(df_test['Pclass'])\n",
    "\n",
    "pclass_train_dummies.columns = [\"Pclass_1\",\"Pclass_2\",\"Pclass_3\"]\n",
    "pclass_test_dummies.columns = [\"Pclass_1\",\"Pclass_2\",\"Pclass_3\"]\n",
    "\n",
    "df_train.drop(['Pclass'] , axis = 1 , inplace=True)\n",
    "df_test.drop(['Pclass'] , axis = 1 , inplace=True)\n",
    "\n",
    "df_train = df_train.join(pclass_train_dummies)\n",
    "df_test = df_test.join(pclass_test_dummies)\n",
    "\n",
    "\n",
    "# Embarked\n",
    "embarked_train_dummies = pd.get_dummies(df_train['Embarked'])\n",
    "embarked_test_dummies = pd.get_dummies(df_test['Embarked'])\n",
    "\n",
    "embarked_train_dummies.columns = ['S','C','Q']\n",
    "embarked_test_dummies.columns = ['S','C','Q']\n",
    "\n",
    "df_train.drop(['Embarked'], axis=1, inplace = True)\n",
    "df_test.drop(['Embarked'], axis=1, inplace = True)\n",
    "\n",
    "df_train = df_train.join(embarked_train_dummies)\n",
    "df_test = df_test.join(embarked_train_dummies)\n",
    "\n",
    "\n",
    "# Age\n",
    "df_train[\"Age\"].fillna(df_train[\"Age\"].mean(), inplace=True)\n",
    "df_test[\"Age\"].fillna(df_train[\"Age\"].mean(), inplace=True)\n",
    "\n",
    "\n",
    "# Sex\n",
    "sex_train_dummies = pd.get_dummies(df_train['Sex'])\n",
    "sex_test_dummies = pd.get_dummies(df_test['Sex'])\n",
    "\n",
    "sex_train_dummies.columns = ['Female', 'Male']\n",
    "sex_test_dummies.columns = ['Female', 'Male']\n",
    "\n",
    "df_train.drop(['Sex'], axis=1, inplace=True)\n",
    "df_test.drop(['Sex'], axis=1, inplace=True)\n",
    "\n",
    "df_train = df_train.join(sex_train_dummies)\n",
    "df_test = df_test.join(sex_test_dummies)\n",
    "\n",
    "\n",
    "# FamilySize\n",
    "df_train['FamilySize'] = df_train['SibSp'] + df_train['Parch'] + 1 # 자신을 포함 +1\n",
    "df_test['FamilySize'] = df_test['SibSp'] + df_test['Parch'] + 1 # 자신을 포함 +1\n",
    "\n",
    "\n",
    "# Fare\n",
    "df_test.loc[df_test.Fare.isnull(), 'Fare'] = df_test['Fare'].mean() # testset 에 있는 nan value 를 평균값으로 바꿈.\n",
    "\n",
    "df_train['Fare'] = df_train['Fare'].map(lambda i: np.log(i) if i > 0 else 0)\n",
    "df_test['Fare'] = df_test['Fare'].map(lambda i: np.log(i) if i > 0 else 0)\n",
    "\n",
    "\n",
    "# Drop Feature\n",
    "df_train.drop(['PassengerId','Name', 'Ticket', 'Cabin','SibSp','Parch'], axis=1, inplace=True)\n",
    "df_test.drop([ 'Name', 'Ticket', 'Cabin','SibSp','Parch'], axis=1, inplace=True)\n",
    "\n",
    "\n",
    "# info\n",
    "df_train.info()\n"
   ]
  },
  {
   "cell_type": "code",
   "execution_count": 78,
   "id": "d8ff9607",
   "metadata": {},
   "outputs": [],
   "source": [
    "X_train = df_train.drop(\"Survived\",axis=1)\n",
    "Y_train = df_train[\"Survived\"]\n",
    "X_test = df_test.drop(\"PassengerId\",axis=1).copy()"
   ]
  },
  {
   "cell_type": "code",
   "execution_count": 79,
   "id": "09ffef75",
   "metadata": {},
   "outputs": [
    {
     "data": {
      "text/plain": [
       "0.9820426487093153"
      ]
     },
     "execution_count": 79,
     "metadata": {},
     "output_type": "execute_result"
    }
   ],
   "source": [
    "random_forest = RandomForestClassifier()\n",
    "random_forest.fit(X_train, Y_train)\n",
    "Y_pred = random_forest.predict(X_test)\n",
    "random_forest.score(X_train, Y_train)\n",
    "\n",
    "# svc = SVC(C=10, gamma=0.1)\n",
    "# svc.fit(X_train,Y_train)\n",
    "# Y_pred = svc.predict(X_test)\n",
    "# svc.score(X_train, Y_train)"
   ]
  },
  {
   "cell_type": "code",
   "execution_count": 80,
   "id": "34d24825",
   "metadata": {},
   "outputs": [],
   "source": [
    "submission = pd.DataFrame({\n",
    "    \"PassengerId\": df_test[\"PassengerId\"],\n",
    "    \"Survived\" : Y_pred\n",
    "})\n",
    "\n",
    "\n",
    "\n",
    "submission.to_csv('titanic.csv', index = False)"
   ]
  }
 ],
 "metadata": {
  "kernelspec": {
   "display_name": "Python 3 (ipykernel)",
   "language": "python",
   "name": "python3"
  },
  "language_info": {
   "codemirror_mode": {
    "name": "ipython",
    "version": 3
   },
   "file_extension": ".py",
   "mimetype": "text/x-python",
   "name": "python",
   "nbconvert_exporter": "python",
   "pygments_lexer": "ipython3",
   "version": "3.7.16"
  }
 },
 "nbformat": 4,
 "nbformat_minor": 5
}
